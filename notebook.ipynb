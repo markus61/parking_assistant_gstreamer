{
 "cells": [
  {
   "cell_type": "code",
   "execution_count": 2,
   "id": "5851cf05",
   "metadata": {},
   "outputs": [
    {
     "name": "stdout",
     "output_type": "stream",
     "text": [
      "['m00', 'm01', 'm02', 'm10', 'm11', 'm12', 'm20', 'm21', 'm22']\n",
      "[0, 1, 2, 3, 4, 5, 6, 7, 8]\n"
     ]
    }
   ],
   "source": [
    "import numpy as np\n",
    "\n",
    "\n",
    "a = np.arange(9).reshape(3,3)\n",
    "names = []\n",
    "name = \"m\"\n",
    "for x in range(0,a.shape[0]):\n",
    "    for y in range(0,a.shape[1]):\n",
    "        names.append(f\"{name}{x}{y}\")\n",
    "\n",
    "print(names)\n",
    "print(a.flatten().tolist())\n"
   ]
  },
  {
   "cell_type": "code",
   "execution_count": 24,
   "id": "d86a4fbb",
   "metadata": {},
   "outputs": [
    {
     "name": "stdout",
     "output_type": "stream",
     "text": [
      "[[1.1 2.1]\n",
      " [1.2 2.2]\n",
      " [1.3 2.3]]\n",
      "[[3.1]\n",
      " [3.2]\n",
      " [3.3]]\n",
      "???\n",
      "[[ 9.059999 16.359999 23.66    ]\n",
      " [ 9.42     17.019999 24.619999]\n",
      " [ 9.78     17.68     25.58    ]]\n"
     ]
    }
   ],
   "source": [
    "K = np.array([\n",
    "            [ 1.1, 2.1, 3.1],\n",
    "            [ 1.2, 2.2, 3.2],\n",
    "            [ 1.3, 2.3, 3.3]\n",
    "        ], dtype=np.float32)\n",
    "print(K[:,[0,1]])\n",
    "print(K[:,[2]])\n",
    "\n",
    "t=np.array([4.1, 4.2, 4.3],dtype=np.float32)\n",
    "H=np.column_stack([K[:,[0,1]], t])\n",
    "print(\"???\")\n",
    "print(H @ K)\n",
    "\n",
    "\n",
    "\n",
    "\n",
    "\n",
    "\n"
   ]
  }
 ],
 "metadata": {
  "kernelspec": {
   "display_name": "venv",
   "language": "python",
   "name": "python3"
  },
  "language_info": {
   "codemirror_mode": {
    "name": "ipython",
    "version": 3
   },
   "file_extension": ".py",
   "mimetype": "text/x-python",
   "name": "python",
   "nbconvert_exporter": "python",
   "pygments_lexer": "ipython3",
   "version": "3.11.14"
  }
 },
 "nbformat": 4,
 "nbformat_minor": 5
}
